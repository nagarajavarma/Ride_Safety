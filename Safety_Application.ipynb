{
 "cells": [
  {
   "cell_type": "code",
   "execution_count": 9,
   "metadata": {},
   "outputs": [],
   "source": [
    "from flask  import Flask,request,jsonify\n",
    "import traceback\n",
    "import sys\n",
    "import pandas as pd\n",
    "import cloudpickle\n",
    "import io\n",
    "import os"
   ]
  },
  {
   "cell_type": "code",
   "execution_count": 15,
   "metadata": {},
   "outputs": [
    {
     "name": "stdout",
     "output_type": "stream",
     "text": [
      "file loaded\n",
      "model loaded\n",
      "part-00009-e6120af0-10c2-4248-97c4-81baf4304e5c-c000.csv\n",
      "       bookingID  Accuracy     Bearing  acceleration_x  acceleration_y  \\\n",
      "0  1554778161164     7.585  206.000000        0.854950        9.652863   \n",
      "1   592705486931    10.000   61.336914        0.003738      -11.494394   \n",
      "2  1288490188801     6.000  298.000000       -0.931373        9.862018   \n",
      "3   369367187514     4.376    0.000000       -1.383849        8.075643   \n",
      "4  1194000908321     3.900  299.000000        0.811659        9.447808   \n",
      "\n",
      "   acceleration_z    gyro_x    gyro_y    gyro_z  second      Speed  \n",
      "0       -0.682571  0.009521 -0.030655  0.027252   432.0  17.690000  \n",
      "1       -2.562900 -0.004217  0.012375  0.029961   531.0  13.070000  \n",
      "2        5.674431 -0.062343 -0.539092  0.105505   596.0  14.052768  \n",
      "3        4.765658  0.010731 -0.077926 -0.054265   376.0   0.000000  \n",
      "4        1.807678 -0.079931 -0.118189 -0.056884   757.0  12.618248  \n",
      "XGBClassifier(base_score=0.5, booster='gbtree', colsample_bylevel=1,\n",
      "       colsample_bytree=0.8, gamma=5, learning_rate=0.3, max_delta_step=0,\n",
      "       max_depth=6, min_child_weight=3, missing=nan, n_estimators=250,\n",
      "       n_jobs=-1, nthread=None, objective='binary:logistic',\n",
      "       random_state=0, reg_alpha=0.3, reg_lambda=1, scale_pos_weight=1,\n",
      "       seed=None, silent=0, subsample=0.8)\n",
      "Index(['Accuracy', 'Bearing', 'acceleration_x', 'acceleration_y',\n",
      "       'acceleration_z', 'gyro_x', 'gyro_y', 'gyro_z', 'second', 'Speed'],\n",
      "      dtype='object')\n"
     ]
    },
    {
     "name": "stderr",
     "output_type": "stream",
     "text": [
      "C:\\Users\\bindu\\Anaconda3\\lib\\site-packages\\sklearn\\preprocessing\\label.py:151: DeprecationWarning: The truth value of an empty array is ambiguous. Returning False, but in future this will result in an error. Use `array.size > 0` to check that an array is not empty.\n",
      "  if diff:\n"
     ]
    },
    {
     "name": "stdout",
     "output_type": "stream",
     "text": [
      "   0\n",
      "0  0\n",
      "1  0\n",
      "2  0\n",
      "3  1\n",
      "4  0\n"
     ]
    }
   ],
   "source": [
    "def predict():\n",
    "    if model:\n",
    "           \n",
    "        Test_Feature_Path = r'C:\\\\Users\\\\bindu\\\\Desktop\\\\Safety\\\\safety\\\\test'\n",
    "        fileNames = os.listdir(Test_Feature_Path)\n",
    "        print(fileNames[0])\n",
    "        test_data=pd.read_csv(os.path.abspath(os.path.join(Test_Feature_Path,fileNames[0])),index_col=None,header=0)\n",
    "        query = pd.DataFrame(test_data)\n",
    "        query['hours'] = query['second']/(60*60)\n",
    "        query = query.drop(['second'],axis=1)\n",
    "        query=query.drop(['bookingID'],axis=1)\n",
    "        \n",
    "        prediction = model.predict(query)\n",
    "        prediction_series = list(pd.Series(prediction))\n",
    "        final_predictions = pd.DataFrame(prediction_series)\n",
    "        return final_predictions\n",
    "    else:\n",
    "        print('Train the model first')\n",
    "        return ('No Model here to use')\n",
    "\n",
    "\n",
    "if __name__ == '__main__':\n",
    "    filename = 'Safety_Model_v2.pkl'\n",
    "    path='E:\\\\pickle\\\\'\n",
    "    file = io.open(path+filename,'rb')\n",
    "    print('file loaded')\n",
    "    model=cloudpickle.load(file) \n",
    "    print(\"model loaded\") \n",
    "    final_predictions =  predict()\n",
    "    print(final_predictions.head())\n",
    "    "
   ]
  },
  {
   "cell_type": "code",
   "execution_count": null,
   "metadata": {},
   "outputs": [],
   "source": []
  }
 ],
 "metadata": {
  "kernelspec": {
   "display_name": "Python 3",
   "language": "python",
   "name": "python3"
  },
  "language_info": {
   "codemirror_mode": {
    "name": "ipython",
    "version": 3
   },
   "file_extension": ".py",
   "mimetype": "text/x-python",
   "name": "python",
   "nbconvert_exporter": "python",
   "pygments_lexer": "ipython3",
   "version": "3.6.7"
  }
 },
 "nbformat": 4,
 "nbformat_minor": 2
}
